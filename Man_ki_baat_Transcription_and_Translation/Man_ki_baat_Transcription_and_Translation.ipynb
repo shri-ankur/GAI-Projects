{
  "nbformat": 4,
  "nbformat_minor": 0,
  "metadata": {
    "colab": {
      "provenance": []
    },
    "kernelspec": {
      "name": "python3",
      "display_name": "Python 3"
    },
    "language_info": {
      "name": "python"
    }
  },
  "cells": [
    {
      "cell_type": "markdown",
      "source": [
        "# Audio Transcription and Translation Project\n",
        "\n",
        "In this project, I have built a system that bridges language barriers: an automatic voice message translation system. Utilizing OpenAI's Whisper API for state-of-the-art speech-to-text capabilities and the ChatCompletion API for accurate text translation, I have created an end-to-end solution that can translate any voice message into a chosen language.\n",
        "   I have chosen audio from PM Modi's \"Man ki Baat' program since it is familiar to most people.\n",
        "\n",
        "## APIs used\n",
        "\n",
        "- **Whisper API for Speech Recognition**: OpenAI's Whisper API to convert speech from voice messages into text.\n",
        "- **ChatCompletion API for Translation**: ChatCompletion API to translate the transcribed text into the desired language.\n",
        "\n"
      ],
      "metadata": {
        "id": "vUehOJlORE-j"
      }
    },
    {
      "cell_type": "markdown",
      "source": [
        "# 2. Libraries import"
      ],
      "metadata": {
        "id": "NDlbXftjSHdL"
      }
    },
    {
      "cell_type": "markdown",
      "source": [
        "First, we will install openai and python-dotenv libraries. Openai for accesssing openai apis and python-dotenv to read in openai api secret key."
      ],
      "metadata": {
        "id": "tR0Jm3nmRPf1"
      }
    },
    {
      "cell_type": "code",
      "source": [
        "!pip install openai\n",
        "!pip install python-dotenv"
      ],
      "metadata": {
        "colab": {
          "base_uri": "https://localhost:8080/"
        },
        "id": "KTBw517ySLF2",
        "outputId": "857419ef-f23f-41a7-802d-8b7aca2bd37e"
      },
      "execution_count": null,
      "outputs": [
        {
          "output_type": "stream",
          "name": "stdout",
          "text": [
            "Requirement already satisfied: openai in /usr/local/lib/python3.11/dist-packages (1.61.1)\n",
            "Requirement already satisfied: anyio<5,>=3.5.0 in /usr/local/lib/python3.11/dist-packages (from openai) (3.7.1)\n",
            "Requirement already satisfied: distro<2,>=1.7.0 in /usr/local/lib/python3.11/dist-packages (from openai) (1.9.0)\n",
            "Requirement already satisfied: httpx<1,>=0.23.0 in /usr/local/lib/python3.11/dist-packages (from openai) (0.28.1)\n",
            "Requirement already satisfied: jiter<1,>=0.4.0 in /usr/local/lib/python3.11/dist-packages (from openai) (0.8.2)\n",
            "Requirement already satisfied: pydantic<3,>=1.9.0 in /usr/local/lib/python3.11/dist-packages (from openai) (2.10.6)\n",
            "Requirement already satisfied: sniffio in /usr/local/lib/python3.11/dist-packages (from openai) (1.3.1)\n",
            "Requirement already satisfied: tqdm>4 in /usr/local/lib/python3.11/dist-packages (from openai) (4.67.1)\n",
            "Requirement already satisfied: typing-extensions<5,>=4.11 in /usr/local/lib/python3.11/dist-packages (from openai) (4.12.2)\n",
            "Requirement already satisfied: idna>=2.8 in /usr/local/lib/python3.11/dist-packages (from anyio<5,>=3.5.0->openai) (3.10)\n",
            "Requirement already satisfied: certifi in /usr/local/lib/python3.11/dist-packages (from httpx<1,>=0.23.0->openai) (2025.1.31)\n",
            "Requirement already satisfied: httpcore==1.* in /usr/local/lib/python3.11/dist-packages (from httpx<1,>=0.23.0->openai) (1.0.7)\n",
            "Requirement already satisfied: h11<0.15,>=0.13 in /usr/local/lib/python3.11/dist-packages (from httpcore==1.*->httpx<1,>=0.23.0->openai) (0.14.0)\n",
            "Requirement already satisfied: annotated-types>=0.6.0 in /usr/local/lib/python3.11/dist-packages (from pydantic<3,>=1.9.0->openai) (0.7.0)\n",
            "Requirement already satisfied: pydantic-core==2.27.2 in /usr/local/lib/python3.11/dist-packages (from pydantic<3,>=1.9.0->openai) (2.27.2)\n",
            "Collecting python-dotenv\n",
            "  Downloading python_dotenv-1.0.1-py3-none-any.whl.metadata (23 kB)\n",
            "Downloading python_dotenv-1.0.1-py3-none-any.whl (19 kB)\n",
            "Installing collected packages: python-dotenv\n",
            "Successfully installed python-dotenv-1.0.1\n"
          ]
        }
      ]
    },
    {
      "cell_type": "code",
      "execution_count": null,
      "metadata": {
        "id": "lYFNyycCQ2p-"
      },
      "outputs": [],
      "source": [
        "import os\n",
        "import openai\n",
        "import random\n",
        "\n",
        "from openai import OpenAI\n",
        "from dotenv import load_dotenv"
      ]
    },
    {
      "cell_type": "markdown",
      "source": [
        "# 3. Sending a first request to OpenAI API\n",
        "\n",
        "\n",
        "### 3.1 Setting up API Key"
      ],
      "metadata": {
        "id": "TwaQS_nXSQxf"
      }
    },
    {
      "cell_type": "markdown",
      "source": [
        "We will check whether the Opeai api key has been read. The key is kept in a .env file."
      ],
      "metadata": {
        "id": "cT-_d6fQS1PO"
      }
    },
    {
      "cell_type": "code",
      "source": [
        "# os.environ[\"OPENAI_API_KEY\"] = \"sk-XXXXXXXXXXXXX\"\n",
        "load_dotenv(override=True)\n",
        "api_key = os.getenv('OPENAI_API_KEY')\n",
        "\n",
        "if api_key and api_key.startswith('sk-proj-') and len(api_key)>10:\n",
        "    print(\"API key looks good so far\")\n",
        "else:\n",
        "    print(\"There might be a problem with your API key? Please visit the troubleshooting notebook!\")\n",
        "\n",
        "client = OpenAI()"
      ],
      "metadata": {
        "id": "btc16h6ySPFA",
        "colab": {
          "base_uri": "https://localhost:8080/"
        },
        "outputId": "62fbc286-de38-4507-ec36-ae49300ed1c8"
      },
      "execution_count": null,
      "outputs": [
        {
          "output_type": "stream",
          "name": "stdout",
          "text": [
            "API key looks good so far\n"
          ]
        }
      ]
    },
    {
      "cell_type": "markdown",
      "source": [
        "# 4. Processing Audio files with Whisper"
      ],
      "metadata": {
        "id": "9_OjVDWsUe4n"
      }
    },
    {
      "cell_type": "markdown",
      "source": [
        "Now, we will read the desired audio file in binary format and pass this file as a parameter to Whisper transcription api to generate the transcript. The output fromat has been chosen as 'vtt' since it also provides the timeline when each word has been spoken."
      ],
      "metadata": {
        "id": "1QSamBnbTWoG"
      }
    },
    {
      "cell_type": "code",
      "source": [
        "audio_file = open(\"Mann_Ki_Baat_January_2025.mp3\", \"rb\")\n",
        "\n",
        "transcription = client.audio.transcriptions.create(\n",
        "  model=\"whisper-1\",\n",
        "  file=audio_file,\n",
        "  response_format=\"vtt\"\n",
        ")"
      ],
      "metadata": {
        "id": "MsoHQlVsSywU"
      },
      "execution_count": null,
      "outputs": []
    },
    {
      "cell_type": "code",
      "source": [
        "print(transcription)"
      ],
      "metadata": {
        "id": "bIrZ8nmPX4u3",
        "colab": {
          "base_uri": "https://localhost:8080/"
        },
        "outputId": "1b9f487f-8ac5-4253-c2b8-15025a1cec67"
      },
      "execution_count": null,
      "outputs": [
        {
          "output_type": "stream",
          "name": "stdout",
          "text": [
            "WEBVTT\n",
            "\n",
            "00:00:00.000 --> 00:00:10.000\n",
            "मेरे प्यारे देशवासियों, नमस्कार, आज 2025 की पहली मन की बात हो रही है।\n",
            "\n",
            "00:00:10.000 --> 00:00:20.000\n",
            "आप लोगों ने एक बात जरूर नोटिस की होगी, हर बार मन की बात महिने के आखरी रविवार को होती है।\n",
            "\n",
            "00:00:20.000 --> 00:00:28.000\n",
            "लेकिन इस बार हम एक सप्ता पहले चोथे रविवार के बेजाए तीसरे रविवार को ही मिल रहे हैं।\n",
            "\n",
            "00:00:28.000 --> 00:00:35.000\n",
            "क्योंकि अगले सप्ता रविवार के दिन ही गणतंत्र दिवस है।\n",
            "\n",
            "00:00:35.000 --> 00:00:41.000\n",
            "मैं सभी देशवासियों को गणतंत्र दिवस की अग्रिम शुब्कामनाय देता हूँ।\n",
            "\n",
            "00:00:42.000 --> 00:00:47.000\n",
            "साथियों, इस बार का गणतंत्र दिवस बहुत विशेश है।\n",
            "\n",
            "00:00:47.000 --> 00:00:52.000\n",
            "ये भारतिय गणतंत्र की 75 वी वर्षगांठ है।\n",
            "\n",
            "00:00:52.000 --> 00:00:58.000\n",
            "इस वर्ष सम्विधान लागु होने के 75 साल हो रहे हैं।\n",
            "\n",
            "00:00:58.000 --> 00:01:04.000\n",
            "मैं सम्विधान सभा के उन सभी महान व्यक्तितों को नमन करता हूं,\n",
            "\n",
            "00:01:04.019 --> 00:01:09.000\n",
            "जिनोंने हमें हमारा पवितर सम्वधान दिया।\n",
            "\n",
            "00:01:09.000 --> 00:01:16.000\n",
            "सम्विधान सभा के दोरान अनेक विशें पर लम्बी-लम्बी चर्चायें हुई.\n",
            "\n",
            "00:01:16.000 --> 00:01:20.000\n",
            "वोँ चर्चायें, समिधान सभा के सद्रशों के विचार,\n",
            "\n",
            "00:01:20.000 --> 00:01:25.000\n",
            "उनकी वहानी हमारी बहुत बडी धरोओर है।\n",
            "\n",
            "00:01:25.000 --> 00:01:36.000\n",
            "आज मन की मात में मेरा प्रयास है कि आपको कुछ महान नेताओं की ओरिजिनल आवाज सुनाओ।\n",
            "\n",
            "00:01:36.000 --> 00:01:42.000\n",
            "साथियों, जब सम्विधान सभा ने अपना काम शुरू किया,\n",
            "\n",
            "00:01:42.000 --> 00:01:49.000\n",
            "तो बाबा साहब अम्बेट करने परस्पर सहयोग को लेकर एक बहुत महतुकुन बात कही थी।\n",
            "\n",
            "00:01:49.000 --> 00:01:56.000\n",
            "उनका ये सम्विधन इंग्लीश में है, मैं उसका एक आउंस आपको सुनाता हूं।\n",
            "\n",
            "00:01:56.000 --> 00:02:08.000\n",
            "बेशमना में , सज़्याना के बाप के लिए , नहीं आओत लीये है कोई तुम्हेरी नवात को शुम्भ होते हैं, नहीं होते है कोई रिया होते है,\n",
            "\n",
            "00:02:08.000 --> 00:02:20.000\n",
            "आपके अबादा से कुछ परूप नहीं है , पर मुझे बात करने के लिए अपने भावत होता है, मेरे अपने अबादा को है , वह भावत नहीं है अपने बीचे का जाते हैं,\n",
            "\n",
            "00:02:50.000 --> 00:03:20.000\n",
            "साथियों , बाबा साहब इस बात पर जोर दे रहे थे कि संविधान सभा एक साथ, एक मत हो और मिलकर सर्वहित के लिए काम करें, मैं आपको संविधान सभा की एक और ओडियो क्लिप सुनाता हूं, ये ओडियो डॉक्टर राजेंदर प्रसाज जी का है, जो हमारी संविधान स\n",
            "\n",
            "00:03:20.000 --> 00:03:22.419\n",
            "सुनाता है.\n",
            "\n",
            "00:03:22.419 --> 00:03:27.100\n",
            "मेरा एतिहासनिय बताता 발라े है कि राजेंदर प्रशाज Τरें\n",
            "\n",
            "00:03:27.100 --> 00:03:31.059\n",
            "जी के और हमारी संस्कृति गरुव तण�दा कि हम शांति प्रियः,\n",
            "\n",
            "00:03:31.059 --> 00:03:34.860\n",
            "हमारा Peng- H 66 hates हमारी ओटियों को दोसरे त्रेक\n",
            "\n",
            "00:03:34.860 --> 00:03:37.119\n",
            "की keep academy at Kentucky मेकिना, उसे मिललें\n",
            "\n",
            "00:03:37.119 --> 00:03:40.720\n",
            "या सोने की कभी नहीं बांधने की कोशिश की, हमने\n",
            "\n",
            "00:03:40.720 --> 00:03:44.720\n",
            "दूसरों को अपने साथ लोहोल के जंजीर से भी जादा\n",
            "\n",
            "00:03:44.720 --> 00:03:47.679\n",
            "मज़बूत मगर सुंदर और सुखद रेशम के धागे\n",
            "\n",
            "00:03:47.679 --> 00:03:50.919\n",
            "से बांध रखा है, और वो बंधन धर्म का है,\n",
            "\n",
            "00:03:51.919 --> 00:03:54.919\n",
            "ग्यान का है, हम अब भी उसी रास्ते पर चलते\n",
            "\n",
            "00:03:54.919 --> 00:03:57.919\n",
            "रहेंगे, और हमारी एकी इच्छा और अभिलाशा है,\n",
            "\n",
            "00:03:57.919 --> 00:04:00.919\n",
            "वो अभिलाशा यह है, कि हम संसार में सुख और\n",
            "\n",
            "00:04:00.919 --> 00:04:02.919\n",
            "शांती कायम करने में मदद पहुंचा सकें,\n",
            "\n",
            "00:04:02.919 --> 00:04:05.919\n",
            "और संसार के हाथों में सत्य और हिंसा,\n",
            "\n",
            "00:04:05.919 --> 00:04:09.919\n",
            "वो अचूख अत्यार दे सकें, जिसने हमें आज आजादी तक पहुंचाया है,\n",
            "\n",
            "00:04:09.919 --> 00:04:12.919\n",
            "हमारी जिंदिगी और संस्कृति में कुछ ऐसा है,\n",
            "\n",
            "00:04:12.919 --> 00:04:16.920\n",
            "जिसने हमें समय के थपेडों के बावजूद जिन्दा रहने के शक्ति दी है,\n",
            "\n",
            "00:04:16.920 --> 00:04:19.920\n",
            "अगर हम अपने आदर्शों को सामने रखे रहेंगे,\n",
            "\n",
            "00:04:19.920 --> 00:04:22.920\n",
            "तो हम संसार की बड़ी सेवा कर पानेंगे।\n",
            "\n",
            "00:04:22.920 --> 00:04:25.920\n",
            "साथियों, डॉक्टर राजेंदर प्रसाथ जी ने,\n",
            "\n",
            "00:04:25.920 --> 00:04:31.920\n",
            "मानविये मुल्लियों के प्रति देश की प्रतिबद्धता की बात कही थी,\n",
            "\n",
            "00:04:31.920 --> 00:04:36.920\n",
            "अब मैं आपको डॉक्टर शामा प्रसाथ मुखर जी की आवाज सुढाता हूँ,\n",
            "\n",
            "00:04:36.920 --> 00:04:40.920\n",
            "उन्होंने अवसरों की समानता का विशय उठाया,\n",
            "\n",
            "00:04:40.920 --> 00:04:43.920\n",
            "डॉक्टर शामा प्रसाथ मुखर जी ने कहा था,\n",
            "\n",
            "00:05:01.920 --> 00:05:28.920\n",
            "प्रसाथ मुखर जी ने कहा था,\n",
            "\n",
            "00:05:28.920 --> 00:05:40.920\n",
            "साथियों, मुझे उम्मीद है आपको भी सम्विधान सभा की डिबेट से ये ओरिजिनल ओरियो सुनकर अच्छा लगा होगा,\n",
            "\n",
            "00:05:40.920 --> 00:05:48.920\n",
            "हम देश वासी को इन विचारों से प्रेणा लेकर ऐसे भारत के निर्मान के लिए काम करना है,\n",
            "\n",
            "00:05:48.920 --> 00:06:02.920\n",
            "जिस पर हमारे सम्विधान निर्माताओं को भी गर्व हो, साथियों, गनतंत्र दिवस से एक दिन पहले, 25 जन्वरी को नेशनल बॉर्टर्स डे है,\n",
            "\n",
            "00:06:02.920 --> 00:06:09.920\n",
            "ये दिन इसलिए अहम है क्योंकि इस दिन भारतीय निर्वाचन आयोग की स्थापना हुई थी,\n",
            "\n",
            "00:06:10.920 --> 00:06:23.920\n",
            "हमारे सम्विधान निर्माताओं ने सम्विधान में हमारे चुनाव आयोग को लोकतंत्र में लोगों की भागिदारी को बहुत बड़ा स्थान दिया है,\n",
            "\n",
            "00:06:23.920 --> 00:06:41.920\n",
            "देश में जब 1951-52 में पहली बार चुनाव हुए, तो कुछ लोगों को सौंसय था कि क्या देश का लोकतंत्र जीवित रहेगा, लेकिन हमारे लोकतंत्र ने सारी आशंकाओं को गलत साभित किया,\n",
            "\n",
            "00:06:41.920 --> 00:07:03.920\n",
            "आखिर भारत मदर अब डेमोकरसी है, बीते दसकों में भी देश का लोकतंत्र स्वसक्त हुआ है, समृद्ध हुआ है, मैं चुनाव आयोग के भी धन्यवाद दूंगा, जिसने समय समय पर हमारी मतदान प्रक्रिया को आधुनिक बनाया है, मजबुत किया है,\n",
            "\n",
            "00:07:03.920 --> 00:07:33.920\n",
            "आयोग ने जन शक्ति को और शक्ति देने के लिए टकनिक्की शक्ति का उप्योग किया, मैं चुनाव आयोग को निस्पक्ष चुनाव के उनके कमिट्मेंट के लिए बधाई देता हूँ, मैं देश माश्यों से कहूंगा कि वो जादा से जादा संख्या में अपने मत\n",
            "\n",
            "00:07:33.920 --> 00:07:47.519\n",
            "डेमोक्रेटिक प्रोसेश का हिस्सा भी बने और इस प्रोसेश को सशक्त भी करें, मेरे प्यारे देश माश्यों, प्रयाग राज में महाकुंब का स्रिगनेश हो चुका है,\n",
            "\n",
            "00:07:47.519 --> 00:08:08.640\n",
            "चीरस्मरनिय जन सहलाब, अकलपनिय द्रश्य और समता समरस्ता का असाधारन संगम, इस बार कुंब में कई दिव्य योग भी बन रहे हैं, कुंब का ये उत्सव विविद्धता में एकता का उत्सव मनाता है,\n",
            "\n",
            "00:08:08.640 --> 00:08:09.160\n",
            "संगम की रेती पर पुरे भारत के, पुरे विश्व के लोग जुडते हैं, हाजारो वर्छों से चली आ रही इस परंपरा कही ही कोई घेसक मात नही, जाति बात नही, इस में भारत के दकषिने से लोग आते हैं, भारत के पुर्व से पस्चिनेस लोग\n",
            "\n",
            "00:08:38.640 --> 00:08:48.640\n",
            "की लगाते हैं, एक साथ भन्डारों में भोजन करते हैं, प्रसार लेते हैं, तभी तो कुम्ब एक्ता का महा कुम्ब है,\n",
            "\n",
            "00:08:48.640 --> 00:08:58.640\n",
            "कुम्ब का आयोजन हमें ये भी बताता है कि कैसे हमारी परंपराएं पुरे भारत को एक सुत्र में बांती हैं,\n",
            "\n",
            "00:08:58.640 --> 00:09:14.640\n",
            "उत्तर से दक्षिन तक मान्यताओं को मानने के तरीके एक जैसे ही हैं, एक तरप प्रयागराच, उज्जैन, नासी और हरिद्वावे कुम्ब का आयोजन होता है,\n",
            "\n",
            "00:09:14.640 --> 00:09:34.640\n",
            "वैसे ही दक्षिन भूभाग में गोदावरी, कृष्णा, नर्वदा और कावेरी नदी के तटों पर पुशकरम होते हैं, ये दोनों ही परवा हमारी पवित्र नदियों से, उनकी मान्यताओं से जुड़े हुए हैं,\n",
            "\n",
            "00:09:34.640 --> 00:10:04.640\n",
            "इसी तरह कुम्ब कौनम से तिरुकर्यूर, कुड़वासल से तिरुचेरय अनेक ऐसे मंदील हैं, जिनकी परंपराएं कुम्ब से जुड़ी हुई हैं, साथियों, इस बार आप सब ने देखा होगा कि कुम्ब में युवावों की भागिदारी बहुत व्यापक रुप में\n",
            "\n",
            "00:10:04.640 --> 00:10:23.840\n",
            "जुड़ी हैं, तो उसकी जड़े और मजबूत होती हैं, और तब उसका स्वर्णिम भविश्य भी सुनिष्चित हो जाता है, हम इस बार कुम्ब के डिजिटल फुटप्रेंज भी इतने बड़े स्केल पर देख रहे हैं,\n",
            "\n",
            "00:10:23.840 --> 00:10:53.840\n",
            "कुम्ब की ये वैश्विक लोकप्रियता हर भारते के लिए गर्व की बात है, साथियों, कुछ दिन पहले ही पस्चिम बंगाल में गंगा सागर मेले का भी विहंगम आयोजन हुआ है, संक्रांती के पावन अवसर पर इस मेले में पूरी दुनिया से आय लाखों स्रध्ध\n",
            "\n",
            "00:10:53.840 --> 00:11:10.640\n",
            "हमारे ये पर्व, हमारे सामाजीक मेलजोल को, सद्भाव को, एक्चा को बढ़ाने वाले पर्व है, ये पर्व भारत के लोगों को, भारत की परंपराओं से जोडते हैं\n",
            "\n",
            "00:11:10.640 --> 00:11:35.039\n",
            "और जैसे हमारे सांस्त्रों ने संसार में धर्म, अर्थ, काम, मोक्ष, चंगरों पर बल दिया है, वैसे ही हमारे पर्वों और परंपराओं भी अध्यात्मिक, सामाजीक, सांस्कृतिक और आर्थिक, हर पक्ष को भी शसक्त करते हैं\n",
            "\n",
            "00:11:35.760 --> 00:11:47.039\n",
            "साथियों, इस महिने हमने पौश शुकल द्वादसी के दिन रामलला के प्राणप्रतिष्टा पर्व की पहली बर्जगांठ मनाई हैं\n",
            "\n",
            "00:11:47.599 --> 00:11:53.039\n",
            "इस साल पौश शुकल द्वादसी 11 जन्वरी को पढ़ी थी\n",
            "\n",
            "00:11:53.039 --> 00:12:02.599\n",
            "इस दिन, लाक्खों राम भक्तों ने अयोध्या में रामलला के साक्षात दर्शन कर उनका आशिरिवाद दिया\n",
            "\n",
            "00:12:02.599 --> 00:12:10.960\n",
            "प्राणप्रतिष्ठा की ये द्वादसी भारत की सांस्कृतिक चेतना की पुन प्रतिष्ठा की द्वादसी है\n",
            "\n",
            "00:12:11.359 --> 00:12:19.440\n",
            "इसलिए पोश शुकल द्वादसी का ये दिन एक तरह से प्रतिष्ठा द्वादसी का दिन भी बन गया है\n",
            "\n",
            "00:12:19.440 --> 00:12:30.719\n",
            "हमें विकास के रास्ते पर चलते हुए ऐसे ही अपनी विरासकों भी सहेजना है, उनसे प्रेणा लेते हुए आगे बढ़ना है\n",
            "\n",
            "00:12:31.280 --> 00:12:43.520\n",
            "मेरे प्रेणा देशवासियों, दोहधार पचीज की सुरुवात में ही भारत ने अंतरिक की छेतर में कई अइतिहासिक उपलब्दियां हासिल की हैं\n",
            "\n",
            "00:12:43.520 --> 00:13:03.280\n",
            "आज मुझे ये बताते हुए गर्भ है कि एक भारतिय स्पेश टेक स्टार्ट अप, बैंगलूरी के पिक्सल ने भारत का पहला नीजी सैटलाइट कॉंस्टेलेशन, फायर फ्लाई, सफलता पुरवक लॉंज किया है\n",
            "\n",
            "00:13:03.280 --> 00:13:33.280\n",
            "ये सैटलाइट कॉंस्टेलेशन दुनिया का सबसे हाई रिजोलिशन, हाईपर स्पैक्टरल सैटलाइट कॉंस्टेलेशन है, इस उपलब्दी ने न केवल भारत को आदुनिक स्पेश टेकलोजी में अगरणी बनाया है, बलकि यह आत्मन निर्भर भारत की दिशा में भी\n",
            "\n",
            "00:13:33.280 --> 00:14:03.280\n",
            "इनोवेशन का प्रतीख है, मैं इस उपलब्दी के लिए पिक्सेल की टीम, इस्ट्रो और इन स्पेश को पूरे देश की और से बढ़ाई देता हूँ, साथ्यों, कुछ दिन पहले हमारे व्यज्ञानीकों ने स्पेश सैक्टर में ही एक और बड़ी उपलब्दी हासिल की\n",
            "\n",
            "00:14:03.280 --> 00:14:17.679\n",
            "तो इस प्रक्रिया को स्पेश डॉकिंग कहते हैं, यह तक्नी अंतरिक्ष में स्पेश टेशन तक सप्लाई भेजने और क्रू मिशन के लिए अहम है,\n",
            "\n",
            "00:14:17.679 --> 00:14:35.840\n",
            "भारत ऐसा चोथा देश बना है, जिसने ये सफलता हासिल की है, साथ्यों, हमारे व्यज्ञानीक अंतरिक्ष में पौधे उगाने और उन्हें जीवित रखने के प्रयास भी कर रहे हैं,\n",
            "\n",
            "00:14:35.840 --> 00:15:05.840\n",
            "इसके लिए इस्त्रो के व्यज्ञानीकों ने लोबिया के बीज को चुना, 30 दिसंबर को भेजे गए ये बीज अंतरिक्ष में ही अंकुरिद हुए, ये एक बेहत प्रेणादायक प्रयोग है, जो बविश में, स्पेश में सबजियों उगाने का रास्ता खोलेगा, ये द\n",
            "\n",
            "00:15:05.840 --> 00:15:21.840\n",
            "आपको एक और प्रेणादायक पहल के बारे में बताना चाहता हूँ, IIT मद्रास का एक्स्टेम केंद्र अंतरिक्ष में मैनिफेकिरिंग के लिए नई तकनीकों पर काम कर रहा है, ये\n",
            "\n",
            "00:15:21.840 --> 00:15:51.840\n",
            "केंद्र अंतरिक्ष में फ्री डी प्रिंटेड बिल्डिंग, मेटल फॉम्स और आप्टिकल फाइबर जैसे तकनीकों पर रिशर्च कर रहा है, ये सेंटर बीना पानी के कॉंक्रिट निर्मान जैसे क्रांतिकारी विध्यों को भी विक्षित कर रहा है, एक्स्टेम की ये\n",
            "\n",
            "00:15:51.840 --> 00:16:21.840\n",
            "manufacturing में अधुनिक technology के भी नई रास्ते खुलेंगे, साथियों, इस सभी उपलब्दियां इस बात का प्रमाण है कि भारत के व्यज्यानिक और innovators भविष्की चुनोज्जियों का समाधान देने के लिए कितने visionary हैं, हमारा देश आज space technology में नए किर्तिमान स्थापित कर रहा ह\n",
            "\n",
            "00:16:21.840 --> 00:16:28.239\n",
            "और युवा उद्यमियों को पुरे देश की और से शुब कामनाई देता हूँ\n",
            "\n",
            "00:16:28.239 --> 00:16:38.640\n",
            "मेरे पेरे देश साथियों, आपने कई बार इंसानों और जानवरों के बीच गजब की दोस्तिकी तस्विरें देखी होगी\n",
            "\n",
            "00:16:38.640 --> 00:16:52.960\n",
            "आपने जानवरों की वफाधारी की कहानिया सुनी होगी, जानवर पालतू हो या जंगल में रहने वाले पशों, इंसानों से उनका नाता कई बार हरान कर देता है\n",
            "\n",
            "00:16:52.960 --> 00:17:10.319\n",
            "जानवर भले बोल नहीं पाते, लेकिन उनकी भावनाओं को, उनके हावभाव को, इंसान भली भाती भाप लेते हैं, जानवर भी प्यार की भाषा को समझते हैं, उससे निभाते भी हैं\n",
            "\n",
            "00:17:10.319 --> 00:17:32.719\n",
            "मैं आपसे असम का एक उधान साजा करना चाहता हूँ, असम में एक जगह है नवगाउं, नवगाउं हमारे देश की महान विभूती स्रिमत संकरदेव जी का जन्मस्थान भी है, यह जगह बहुती सुन्दर है, यहां हाथियों का भी एक बड़ा ठिकाना है,\n",
            "\n",
            "00:17:32.719 --> 00:17:57.119\n",
            "एक शेतर में कई घटनाएं देखी जा रही थी, जहां हाथियों के जुन फसलों को बरबात कर देते थे, किसान परिशान रहते थे, जिससे आसपास के करीब सो गाऊं के लोग बहुत परिशान थे, लेकिन गाँवाले हाथियों की भी मजबुरी समझते थे,\n",
            "\n",
            "00:17:57.119 --> 00:18:27.119\n",
            "उन्हें पता था कि हाथी भूख बिटाने के लिए खेतों का रुक कर रहे हैं, इसलिए गाँवालों ने इसका समाधान निकालने की सोची, गाँवालों की एक टीम बनी, जिसका नाम था हाथी बंधु, हाथी बंधुने सूजबुज दिखाते हुए करीब 800 बिगा बंज\n",
            "\n",
            "00:18:27.119 --> 00:18:49.520\n",
            "टेपियर ग्रास लगाई, इस गाँस को हाथी बहुत पसंद करते हैं, इसका असर ये हुआ कि हाथियों ने खेतों की वहर जाना कम कर दिया, यह हजारों गाँवालों के लिए बहुत राहत की बात है, उनका ये प्रयास हाथियों को भी खूब भाया है,\n",
            "\n",
            "00:18:49.520 --> 00:19:10.640\n",
            "साथियों हमारी संस्कृति और विरासत हमें आसपास के पसुपक्षियों के साथ प्यार से रहना सिखाती हैं, यह हम सभी के लिए बहुत खुशी की बात है कि बीटे दो महिनों में हमारे देश में दो नए टाइगर रिजर्व्स जुड़े हैं,\n",
            "\n",
            "00:19:10.959 --> 00:19:25.119\n",
            "इन मेंसे एग है, 36 गड में गुरु गाशिदास तमोर पिंगला टाइगर रिजर्व, और दूसरा है, MP में राता पानी टाइगर रिजर्व,\n",
            "\n",
            "00:19:25.119 --> 00:19:26.079\n",
            "मेरे प्यारे देश वाच्चियों, स्वामी विवेकानन्जी ने कहा था, जिस व्यक्ति में अपने ऐडिया को लेकर जुनून होता है, वही अपने लख्ष को हासिल कर पाता है, किसी ऐडिया को सभल मनाने के लिए हमारा पैशन और डेडिकेशन सबसे जरूरी होता ह\n",
            "\n",
            "00:19:55.119 --> 00:20:25.119\n",
            "अवश्य निकरता है, कुछ दिन पहले ही स्वामी विवेकानन्जी की जैंति पर मुझे विक्षित भारत यंग लीडर्स डायलोग का हिस्सा बनने का सभागी मिला, यहां मैंने देश के कोने कोने से आये युवा साथ्यों के साथ अपना पूरा दिन बिताया, युवा\n",
            "\n",
            "00:20:25.119 --> 00:20:26.119\n",
            "साथ्यों कुछ दिन पहले ही स्टार्ट-अप इंडिया के नौ साल पूरे हुए हैं, हमारे देश में जितने स्टार्ट-अप नौ साल में बने हैं, उनमें से आधे से जादा टियर 2 और टियर 3 सहरों से हैं, और जब ये सुनते हैं, तो हर हिंदुस्तानी का दिल खुश हो\n",
            "\n",
            "00:20:55.119 --> 00:21:25.119\n",
            "कि ये स्टार्ट-अप कल्चर बड़े शहरों तक ही सिमित नहीं है, और आपको ये जानकर हैरानी होगी कि छोटे शहरों के स्टार्ट-अप में आधे से जदा का नेतरुत्व हमारी बेटियां कर रही हैं, जब ये सुनने को मिलता है कि अंबाला, हिसार, कांगडा, चें�\n",
            "\n",
            "00:21:25.119 --> 00:21:55.119\n",
            "तो मन आननद से भर जाता है, नागालेंड जैसे राज में पिछले साल स्टार्ट-अप के रजिस्टेशन में 200% से अधिक के वृत्ति हुई है, वेस्ट मेनेज्मेंट, नॉन रिनियोबल एनरजी, बायो टेकनोलोजी और लोजिस्टिक्स ऐसे सेक्टर हैं, जिन से जु�\n",
            "\n",
            "00:21:55.119 --> 00:22:25.119\n",
            "हमारे युवा साथी भी तो कन्वेंशनल से आगे की सोच रखते हैं, इसलिए उन्हें सफरता भी मिल रही हैं, साथियों 10 साल पहले जब कोई स्टार्ट-अप के खिषित्र में जाने की बात करता था, तो उससे तरह तरह के ताने सुनने को मिलते थे, कोई ये पूसता थ\n",
            "\n",
            "00:22:25.280 --> 00:22:39.520\n",
            "कितना बड़ा बढ़लाव आ गया, आप भी भारत में बन रहें नए अफसरों का भरपूर लाब उठाएं, अगर आप खुद पर विश्वास रखेंगे, तो आपके सपनों को भी नए उडान मिलेगी\n",
            "\n",
            "00:22:39.520 --> 00:23:09.520\n",
            "मेरे प्यारे देशवासियों, नेक नियत से, निस्वार्थ भावना के साथ किये गए कामों की चर्चा, दूर सुदूर पहुची ही जाती हैं, और हमारा मन की बात तो, इसका बहुत बड़ा प्लेटफॉर्म है, हमारे इतने विशाल देश में, दूर दराज भी, अगर को\n",
            "\n",
            "00:23:09.520 --> 00:23:39.520\n",
            "देश पड़ा, यह बहत्रीन मंच है, अरुनाचल प्रदेश में, दीपक नाबाम जी ने सेवा की अनूठी मिसाल पेस गी है, दीपक जी यहाँ लिविंग होम चलाते हैं, जहाँ मानसिक रुप से विमार, सरीर से आसमर्थ लोगों, और बुजरगों की सेवा की जाती ह\n",
            "\n",
            "00:23:39.520 --> 00:23:57.680\n",
            "है, समाज के बंचित लोगों, हिंसा पीडित परिवारों, और बेगर लोगों को सहारा देने का अभ्यान शुरू किया, आज उनकी सेवा ने एक संस्था का रूप ले लिया है, उनकी संस्था को कई एवार्ट से भी संमानित किया गया है,\n",
            "\n",
            "00:23:57.680 --> 00:24:19.839\n",
            "लख्सदिप के कवरती द्विप पर नर्स के रूप में काम करने वाली के हिडुंबी जी, उनका काम भी बहुत प्रेरिज करने वाला है, आपको ये जानकर हैरानी होगी कि वो अठाना वर्ष पहले सरकारी नोकरी से रिटायर हो चुकी है,\n",
            "\n",
            "00:24:19.839 --> 00:24:42.800\n",
            "लेकिन आज भी उसी करुणा और स्नेह के साथ लोगों की सेवा में जुटी हैं, जैसे वो पहले करती थी, लख्सदिप के ही केजी मुहमद जी के प्रयास ये भी अद्भूत है, उनकी महनत से मिनिकोईं द्विप का मरीन एकोसिस्टम मजबूत हो रहा है,\n",
            "\n",
            "00:24:42.800 --> 00:25:12.800\n",
            "उन्होंने परियावरन के प्रती लोगों को जागरुक करने के लिए कई गीत लिखे हैं, उन्हें लख्सद्विप साहित कला अकडमी की तरब से बेस्ट फोक सॉंग एवर भी मिल चुका है, केजी मुहमद रेटायर्मेंट के बाद वहां के मुजियम के साथ जूड कर भी\n",
            "\n",
            "00:25:12.800 --> 00:25:42.800\n",
            "वर्जिन कोकोनट उयल को हाली में जी आई टेग मिला है, वर्जिन कोकोनट उयल उसको जी आई टेग के बाद एक और नई पहल हुई है, इस उयल के उत्पादन से जूड़ी महिलावों को संगधित कर सेल्प हैल्प ग्रुब बनाये जा रहे हैं, उन्हें मार्केटिंग �\n",
            "\n",
            "00:25:42.800 --> 00:26:02.800\n",
            "दिशा में एक बड़ा कदम है, मुझे विश्मास है बवीश में निकोबार का वर्जिन कोकोनट उयल दुनिया भर में धुम मचाने वाला है और इसमें सबसे बड़ा योगदान अन्दमान और निकोबार के महिला सेल्प हैल्प ग्रुब का होगा,\n",
            "\n",
            "00:26:02.800 --> 00:26:03.800\n",
            "मेरे प्यारे देशवासियों, पल भर के लिए आप एक द्रश की कलपना कीजिए, कोलकता में जन्वरी का समय है, दूसरा विश्मयुद्ध अपने चरम पर है और इदर भारत में अंग्रिजों के खिलाब गुशा उफान पर है, इसकी वज़े से शहर में चप्पे चप्�\n",
            "\n",
            "00:26:32.800 --> 00:26:55.000\n",
            "कोलकता के बीचों बीच, एक घर के आसपास पुलिस की मजूदगी ज़्यादा चौकस है, इसी बीच लंबा ब्राउन कोट, पैंट और काली टोपी पहने हुए एक व्यक्ति, रात के अंधेरे में एक बंगले से कार लेकर बाहर निकलता है,\n",
            "\n",
            "00:26:55.000 --> 00:27:25.000\n",
            "मजबुत सुरक्षा वाली कई चोक्यों को पार करते हुए वो एक रेल्वे स्टेशन गोमो पहुंच जाता है, यह स्टेशन अब जारखंड में है, यहां से एक ट्रेन पकड़कर वो आगे के लिए निकलता है, इसके बाद अफगानिस्तान होते हुए वो यूरोब जा प\n",
            "\n",
            "00:27:25.000 --> 00:27:55.000\n",
            "कहानी आपको फिल्मी सीन जैसी लगती होगी, आपको लग रहा होगा इतनी हिम्मत दिखेने वाला व्यक्ति आकर किस मिट्टी का बना होगा, दरसल यह व्यक्ति कोई और नहीं हमारे देश की महान विभुती नेता जी सुभास चंद्र बोस थे, 23 जनवरी यानि उनकी जन\n",
            "\n",
            "00:27:55.000 --> 00:28:25.000\n",
            "भी उनके पराकरम की जलक मिलती है, कुछ साल पहले मैं उनके उसी घर में गया था जहांसे वे अंग्रीजो को चक्मा देकर निकले थे, उनकी वो कार अभी वहाँ मोजूद है, वो अनुभव मेरे लिए बहुती विशेस रहा, सुभास बाबु एक विजिनरी थे, साहस त\n",
            "\n",
            "00:28:25.000 --> 00:28:55.000\n",
            "प्रसासक भी थे, महत 27 साल की उम्र में वो कोलकता कॉर्पर्शन के चीप एक्जिक्यूटिव अफिसर बने, और उसके बाद उनोंने मेर की जिम्मेधारी भी समाली, एक प्रसासक के रुप में भी उनोंने कई बड़े काम किये, बच्चों के लिए स्कूल, गरीब बच्�\n",
            "\n",
            "00:28:55.000 --> 00:29:25.000\n",
            "साथ ही गहरा नाता रहा है, उनोंने आजाध हिंद रेडियो के स्थापना की थी, जिस पर उनने सुनने के लिए लोग बड़ी बेसबली से प्रतिक्षा करते थे, उनके संभोधनों से वीदेशी सासन के खिलाब लड़ाय को एक नई ताकन मिलती थी, आजाध हिंद रेड\n",
            "\n",
            "00:29:25.000 --> 00:29:25.040\n",
            "नातार्वी, पस्तों और उर्दु में नीज बुलेटिन का प्रसारण होता था, मैं नेताजी सुभासचंडर बोड़ को नमन करता हूं, देश भर के युवावों से मेरा आगरः हैं, कि वे उनके बारे में अधिक से अधिक पढ़े और उनके जीवन션े निरंतर प\n",
            "\n",
            "00:29:55.000 --> 00:30:25.000\n",
            "सबकी सामुहिक इच्छ शक्ती से जोडता है, हर महिने मुझे बड़ी संख्या में आपके सुझाव, आपके विचार मिलते हैं और हर बार इन विचारों को देखकर विक्षिद भारत के संकलप पर मेरा विश्वास और बढ़ता है, आप सब इसी तरह अपने अपने काम से भ\n",
            "\n",
            "00:30:25.000 --> 00:30:45.000\n",
            "इस बार की मन की बात में फिलहाल इतना ही, अगले महिने फिर मिलेंगे, भारत वासियों की उपलब्दियां, संकलपों और सिद्धियों की नई गाथाओं के साथ, बहुत-बहुत धन्यवाद, नमस्कार\n",
            "\n",
            "\n"
          ]
        }
      ]
    },
    {
      "cell_type": "markdown",
      "source": [
        "## Audio transcription"
      ],
      "metadata": {
        "id": "_Clc8Jk0TTt3"
      }
    },
    {
      "cell_type": "markdown",
      "source": [
        "Here the same audio file is now used to translate the generated text from Hindi to English language"
      ],
      "metadata": {
        "id": "EWrk2LQcXO5l"
      }
    },
    {
      "cell_type": "code",
      "source": [
        "audio_file = open(\"Mann_Ki_Baat_January_2025.mp3\", \"rb\")\n",
        "\n",
        "transcription = client.audio.translations.create(\n",
        "  model=\"whisper-1\",\n",
        "  file=audio_file\n",
        ")"
      ],
      "metadata": {
        "id": "9wFnlLoNZAJK"
      },
      "execution_count": null,
      "outputs": []
    },
    {
      "cell_type": "code",
      "source": [
        "transcription.text"
      ],
      "metadata": {
        "id": "6euuSZWeRavf",
        "colab": {
          "base_uri": "https://localhost:8080/",
          "height": 1000
        },
        "outputId": "0a1dd06c-5a17-44de-9672-9df212d61b29"
      },
      "execution_count": null,
      "outputs": [
        {
          "output_type": "execute_result",
          "data": {
            "text/plain": [
              "\"My dear countrymen, Namaskar. Today is the first Man Ki Baat of 2025. You must have noticed that every time Man Ki Baat happens on the last Sunday of the month. But this time, we are meeting on the third Sunday instead of the fourth Sunday a week ago. Because next week, on Sunday, is the day of the Gantantra. I wish all the countrymen a very happy Gantantra day. Friends, this year's Gantantra day is very special. This is the 75th anniversary of the Indian Gantantra. This year is the 75th anniversary of the implementation of the Constitution. I pay homage to all the great personalities of the Constitutional Council who gave us our sacred Constitution. During the Constitutional Council, there were long discussions on many issues. The discussions, the thoughts of the members of the Constitutional Council, their speeches are our great heritage. Today, in Man Ki Baat, I am trying to give you the original voice of some great leaders. Friends, when the Constitutional Council started its work, Babasaheb Ambedkar said a very important thing about co-operation. His address is in English. I will tell you a part of it. So far, as the ultimate goal is concerned, I think none of us need have any apprehensions. None of us need have any doubt. But my fear, which I must express clearly, is this. Our difficulty, as I said, is not about the ultimate future. Our difficulty is how to make the heterogeneous mass that we have today take a decision in common and march in a cooperative way on that road which is bound to lead us to unity. Our difficulty is not with regard to the ultimate. Our difficulty is with regard to the beginning. Let's listen to Dr. Rajendra Prasad. We will continue to walk on the same path. We have only one desire. That desire is to help create peace and harmony in the world. And to give the world the weapon of truth and non-violence that has brought us to freedom today. There is something in our life and culture that has given us the strength to live despite the hardships of time. If we keep our ideals in front of us, we will be able to serve the world. Friends, Dr. Rajendra Prasad spoke about the talent of the country towards human values. Now let me tell you the voice of Dr. Shyamaprasad Mukherjee. He raised the issue of equality of opportunities. Dr. Shyamaprasad Mukherjee said, I hope, sir, that we shall go ahead with our work, in spite of all difficulties, and thereby help to create that great India, which will be the motherland of not just this community, not just this class of people, but of every person, man, woman and child, living in this great land with respect of race, caste, creed or community. Everyone should have an equal opportunity, so that he or she can develop himself or herself according to the best talent and serve this great common motherland of India. Friends, I hope that you too would have liked the original audio of this debate. We Indians should be inspired by these thoughts and work for the creation of such an India, on which our Constitution makers should be proud. Friends, on 25th January, National Voters' Day, this day is important because on this day, the Indian Election Commission was established. Our Constitution makers have given great importance to our election commission, and to the participation of the people in democracy. When the elections were held for the first time in 1951-52, some people had doubts whether the democracy of the country would survive. But our democracy proved all the doubts wrong. After all, India is a mother of democracy. In the past decades, the democracy of the country has been strong and prosperous. I would also like to thank the Election Commission, which has modernized and strengthened our voting process from time to time. I would like to congratulate the Election Commission for its commitment to independent elections. I would like to tell the voters to use their right to vote as much as possible, to be a part of the democratic process of the country, and to strengthen this process. My dear compatriots, the great Kumbh of Prayag Raj has been inaugurated. This time, the unimaginable confluence of unforgettable people, and the unparalleled union of equality and prosperity, is also becoming a divine combination in Kumbh this time. This festival of Kumbh celebrates the festival of unity in diversity. People from all over India, from all over the world, unite on the soil of the union. This tradition has been going on for thousands of years. There is no discrimination anywhere. There is no casteism. In this, people come from the south of India, people come from the east and west of India. In Kumbh, the poor, the rich, everyone becomes one. Everyone comes together and eats together. That is why Kumbh is the great Kumbh of unity. Kumbh also tells us how our traditions tie the whole of India in one thread. From north to south, the ways of accepting beliefs are the same. On one side is Prayagraj, Ujjain, Nashik and Haridwar. Kumbh is organized. Similarly, in the southern part, there is Pushkaram on the banks of Godavari, Krishna, Narmada and Kaveri rivers. Both these mountains are connected to our holy rivers, to their beliefs. Similarly, from Kumbhkarnam to Tirukkadyur, from Kurvasal to Tirucherai, there are many such temples whose traditions are connected to Kumbh. Friends, this time you must have seen that in Kumbh, the participation of the youth is seen in great abundance. And it is also true that when the young generation joins with its culture and pride, its roots become stronger. And then its golden future is also assured. This time we are also seeing Kumbh's digital footprint on such a large scale. This global popularity of Kumbh is a matter of pride for every Indian. Friends, just a few days ago, the Gangasagar fair was also held in West Bengal. On the occasion of the revolution, lakhs of devotees from all over the world have come to this fair. Kumbh, Pushkaram and the Gangasagar fair are the mountains that increase our social unity, harmony and harmony. These mountains connect the people of India with the traditions of India. And just as our scriptures have given strength to Dharma, Artha, Kama, Moksha, Chandra in the world, similarly, our mountains and traditions also strengthen the spiritual, social, cultural and financial sides. Friends, this month we have celebrated the first anniversary of Ram Lala's Prana Pratishtha Parva on Poush Shukla 12th. This year, Poush Shukla 12th was on 11th January. On this day, lakhs of Ram devotees visited Ayodhya and gave their blessings. This 12th of Prana Pratishtha is also the 12th of Puna Pratishtha of Indian cultural consciousness. Therefore, this day of Poush Shukla 12th has also become the day of Pratishtha 12th in a way. We have to walk on the path of development, and in the same way, we have to support our heritage. We have to move forward while taking inspiration from them. My dear compatriots, In the beginning of 2025, India has achieved many historical achievements in the space sector. Today, I am proud to say that an Indian space tech startup, Bangalore's Pixel has successfully launched India's first private satellite constellation, Firefly. This satellite constellation is the world's highest-resolution hyperspectral satellite constellation. This achievement has not only made India a pioneer in modern space technology, but it is also a big step towards a self-reliant India. This success is a symbol of the growing power and innovation of our private space sector. For this achievement, I congratulate the Pixel team, ISRO and InSpace from all over the country. My dear compatriots, A few days ago, our scientists achieved another great achievement in the space sector. Our scientists have done space docking of satellites. When two spacecrafts are connected in space, this process is called space docking. This technique is important for sending supplies to space stations and crew missions in space. India is the fourth country to achieve this success. Friends, our scientists are also trying to grow plants in space and keep them alive. For this, ISRO scientists selected the lobia seed. The seeds sent on 30 December sprouted in space. This is a very inspiring experiment that will pave the way for growing vegetables in space in the future. It shows how far our scientists are working with their thinking. Friends, I want to tell you about another inspiring project. IIT Madras's XTEM centre is working on new manufacturing techniques in space. This centre is researching on 3D printed buildings, metal forms and optical fibre in space. This centre is also developing revolutionary methods like concrete construction without water. XTEM's research will strengthen India's space mission and space station in the future. This will pave the way for modern technology in manufacturing. Friends, all these achievements are proof that India's scientists and innovators are so visionary to solve future challenges. Today, our country is establishing new activities in space technology. I would like to wish India's scientists, innovators and young entrepreneurs on behalf of the whole country. My dear viewers, you must have seen amazing pictures of friendship between humans and animals many times. You must have heard stories about the loyalty of animals. Whether they are pets or animals living in the jungle, their relationship with humans surprises us many times. Animals may not be able to speak, but humans can understand their feelings and emotions. Animals also understand the language of love and can also express it. I would like to share an example of Assam with you. There is a place called Naugaon in Assam. Naugaon is also the birthplace of the great hero of our country, Shrimad Shankar Dev Ji. This place is very beautiful. There is also a big place for elephants here. In one area, there were many incidents where the elephants used to destroy crops. Farmers used to be worried. Due to this, the people of about 100 villages were very worried. But the villagers also thought that the elephants were helpless. They knew that the elephants were destroying crops to satiate their hunger. So, the villagers thought of a solution. A team of villagers was formed called the Elephant Friends. The Elephant Friends made an extraordinary effort on an area of about 800 acres of barren land. Here, the villagers joined together and planted napier grass. Elephants love this grass very much. The effect of this was that the elephants reduced going to the fields. This is a matter of great relief for thousands of villagers. This effort of the villagers is also very much appreciated by the elephants. Friends, our culture and heritage teach us to live with the animals around us with love. This is a matter of great joy for all of us. In the past two months, two new tiger reserves have been established in our country. One of them is Guru Ghasidas Tamor Pingla Tiger Reserve in Chhattisgarh. The other is Rata Pani Tiger Reserve in MP. My dear compatriots, Swami Vivekananda had said, The person who has a passion for his idea, he is able to achieve his goal. To make an idea successful, our passion and dedication are the most important. With full dedication and enthusiasm, the path to innovation, creativity and success definitely comes out. A few days ago, on Swami Vivekananda's birthday, I was fortunate enough to be a part of the Viksit Bharat Young Leaders Dialogue. Here I spent my whole day with young people from all over the country. The young people shared their ideas about startups, culture, women, youth and infrastructure, as well as many other sectors. This event was very memorable for me. Friends, just a few days ago, the startup of India completed nine years. In our country, more than half of the startups built in nine years are from tier-2 and tier-3 cities. And when we hear this, every Indian becomes happy. That is, our startup culture is not limited to big cities. And you will be surprised to know that more than half of the startups in small cities are run by our daughters. When we hear that cities like Ambala, Hisar, Kangra, Chengalpattu, Bilaspur, Gwalior and Vashim are becoming the centers of startups, our hearts are filled with joy. In a state like Nagaland, in the last year, the registration of startups has increased by more than 200%. Waste management, non-renewable energy, biotechnology and logistics are the sectors that are being looked at the most by startups. These are not conventional sectors. But our young people are also thinking ahead of the conventional. That is why they are also getting success. Friends, ten years ago, when someone used to talk about going into the field of startups, he used to hear all kinds of taunts. Someone used to ask, what is a startup after all? Someone used to say that nothing is going to happen with it. But now see, what a big change has come in a decade. You also take full advantage of the new opportunities that are being created in India. If you have faith in yourself, then your dreams will also get a new flight. My dear compatriots, with good intentions, with selfless feelings, the work that is being discussed is reaching far and wide. And our mind is a very big platform for this. In such a huge country like ours, if someone is doing a good job, if he has a sense of duty on his head, then it is a great platform to bring his efforts forward. Deepak Nabamji has set a great example of service in Arunachal Pradesh. Deepakji runs a living home here, where mentally ill, physically disabled people and the elderly are served. Here, people who are addicted to drugs are taken care of. Deepak Nabamji started an initiative to provide support to people who are deprived of any kind of help, families who are subjected to violence and homeless people. Today, his service has taken the form of an organization. His organization has been honored with many awards. K. Hidumbiji, who works as a nurse at Lakshadweep's Kavrati Dweep, his work is also very inspiring. You will be surprised to know that he retired from a government job 18 years ago. But even today, with the same compassion and love, he is committed to serving people as he used to do before. The efforts of K. G. Mohammad of Lakshadweep are also amazing. With his hard work, the Marine Ecosystem of Minicoin Dweep is getting stronger. He has written many songs to raise awareness about the environment. He has also received the Best Folk Song Award from Lakshadweep Literature Academy. K. G. Mohammad is also working with the museum there after his retirement. Friends, there is another very good news from Andaman and Nicobar Dweep. In Nicobar district, Virgin Coconut Oil has recently received the G.I. Tag. Virgin Coconut Oil has received another new aspect after the G.I. Tag. Women associated with the production of this oil are being organized and made into self-help groups. They are also being given special training in marketing and branding. This is a big step in the direction of strengthening our tribal communities financially. I believe that in the future, Nicobar's Virgin Coconut Oil is going to make a ruckus all over the world. And the biggest contribution in this will be of Andaman and Nicobar's women self-help group. My dear compatriots, imagine a scene for a moment. In Kolkata, it is January. The Second World War is at its peak. And here in India, anger against the British is on the rise. Because of this, the police are stationed in every nook and cranny of the city. The presence of the police around a house in the middle of Kolkata is more alert. Meanwhile, a man wearing a long brown coat, pants and a black cap leaves the house in the middle of the night with a car. Passing through many strong security checkpoints, he reaches a railway station, Gomu. This station is now in Jharkhand. He takes a train from here and leaves for the future. After this, he goes to Europe while in Afghanistan. And all this happens despite the indiscriminate fortification of the British government. My dear compatriots, this story may seem like a film scene to you. You must be thinking, how can such a courageous man be made of mud? Actually, this man is none other than the great hero of our country, Netaji Subhash Chandra Bose. On 23rd January, we celebrate his birthday as Parakram Day. This story, which is related to his bravery, also has a glimpse of his bravery. A few years ago, I went to the same house from where he left the British. His car is still there. That experience was very special for me. Subhash Babu was a visionary. His bravery was in his nature. Not only that, he was also a very capable administrator. At the age of 27, he became the Chief Executive Officer of the Kolkata Corporation. After that, he took on the responsibility of the Mayor. As an administrator, he did many great things. School for children, milk arrangement for poor children, and his efforts related to cleanliness are still remembered today. Netaji Subhash had a deep connection with the radio. He had established Azad Hind Radio, on which people waited impatiently to listen to him. Through his speeches, the fight against foreign rule gained new strength. Azad Hind Radio broadcasted news bulletins in English, Hindi, Tamil, Bangla, Marathi, Punjabi, Pashto and Urdu. I salute Netaji Subhash Chandra Bose. I request the youth of the country to read as much as possible about him, and take constant inspiration from his life. Friends, this program of Man Ki Maat, connects me with the collective efforts of the nation, with the collective willpower of all of you. Every month, I receive a large number of your suggestions and thoughts. And every time I see these thoughts, my faith in the will of a developed India increases. All of you, in the same way, keep trying to make India the best with your own work. This is all I have to say about Man Ki Maat. We will meet again next month, with the stories of the people of India, their resolve and their accomplishments. Thank you very much. Namaskar.\""
            ],
            "application/vnd.google.colaboratory.intrinsic+json": {
              "type": "string"
            }
          },
          "metadata": {},
          "execution_count": 8
        }
      ]
    },
    {
      "cell_type": "markdown",
      "source": [
        "## Translating to any language using ChatGPT and Whisper\n",
        "\n"
      ],
      "metadata": {
        "id": "mzr2K30GUbUN"
      }
    },
    {
      "cell_type": "markdown",
      "source": [
        "Here, we will use openai's chat completion api to translate the text in English to another language (French). The temperature and tokens have been kept on the higher side since translations from one language to another are not usually one to one."
      ],
      "metadata": {
        "id": "mmZlBWbjXptC"
      }
    },
    {
      "cell_type": "code",
      "source": [
        "target_language = 'French'\n",
        "messages = [{\"role\": \"system\", \"content\": \"\"\"I want you to act as an algorithm for translation to language {}. System will provide you with a text, and your only task is to translate it to {}. Never break character.\"\"\".format(target_language, target_language)}]\n",
        "messages.append({\"role\": \"user\", \"content\": transcription.text})\n"
      ],
      "metadata": {
        "id": "CtAclzsPT3Ho"
      },
      "execution_count": null,
      "outputs": []
    },
    {
      "cell_type": "code",
      "source": [
        "translation_response = client.chat.completions.create(\n",
        "    model=\"gpt-3.5-turbo\",\n",
        "    messages=messages,\n",
        "    max_tokens=2000,\n",
        "    temperature=0.9\n",
        ")\n"
      ],
      "metadata": {
        "id": "D3AglPCLR1_x"
      },
      "execution_count": null,
      "outputs": []
    },
    {
      "cell_type": "code",
      "source": [
        "translation_response.choices[0].message.content"
      ],
      "metadata": {
        "id": "kIb1xtNFSUAP",
        "colab": {
          "base_uri": "https://localhost:8080/",
          "height": 1000
        },
        "outputId": "3eef4744-d318-4b40-f20a-02c85055acd0"
      },
      "execution_count": null,
      "outputs": [
        {
          "output_type": "execute_result",
          "data": {
            "text/plain": [
              "'Chers compatriotes, Namaskar. Aujourd\\'hui est le premier Man Ki Baat de 2025. Vous avez sûrement remarqué que chaque fois que Man Ki Baat a lieu le dernier dimanche du mois. Mais cette fois, nous nous retrouvons le troisième dimanche au lieu du quatrième dimanche il y a une semaine. Car la semaine prochaine, c\\'est le jour du Gantantra. Je souhaite à tous les compatriotes un très joyeux jour de Gantantra. Amis, le jour de Gantantra de cette année est très spécial. Il s\\'agit du 75ème anniversaire du Gantantra indien. Cette année marque le 75ème anniversaire de la mise en œuvre de la Constitution. J\\'hommage à toutes les grandes personnalités du Conseil constitutionnel qui nous ont donné notre Constitution sacrée. Lors du Conseil constitutionnel, de longues discussions ont eu lieu sur de nombreux sujets. Les discussions, les pensées des membres du Conseil constitutionnel, leurs discours sont notre grand patrimoine. Aujourd\\'hui, dans Man Ki Baat, j\\'essaie de vous transmettre la voix originale de certains grands dirigeants. Amis, lorsque le Conseil constitutionnel a commencé ses travaux, Babasaheb Ambedkar a dit une chose très importante sur la coopération. Son discours est en anglais. Je vais vous en dire une partie. Jusqu\\'à présent, en ce qui concerne l\\'objectif ultime, je pense que aucun d\\'entre nous n\\'a besoin d\\'avoir des appréhensions. Aucun d\\'entre nous n\\'a besoin d\\'avoir des doutes. Mais ma crainte, que je dois exprimer clairement, est la suivante. Notre difficulté, comme je l\\'ai dit, ne concerne pas l\\'avenir ultime. Notre difficulté est de faire en sorte que la masse hétérogène que nous avons aujourd\\'hui prenne une décision commune et avance de manière coopérative sur cette voie qui nous conduira inévitablement à l\\'unité. Notre difficulté ne concerne pas l\\'ultime. Notre difficulté concerne le commencement. Écoutons maintenant le Dr. Rajendra Prasad. Nous continuerons à marcher sur le même chemin. Nous n\\'avons qu\\'un seul désir. Ce désir est d\\'aider à créer la paix et l\\'harmonie dans le monde. Et de donner au monde l\\'arme de la vérité et de la non-violence qui nous a conduits à la liberté aujourd\\'hui. Il y a quelque chose dans notre vie et notre culture qui nous a donné la force de vivre malgré les difficultés du temps. Si nous tenons nos idéaux devant nous, nous pourrons servir le monde. Amis, le Dr. Rajendra Prasad a parlé du talent du pays envers les valeurs humaines. Maintenant, laissez-moi vous transmettre la voix du Dr. Shyamaprasad Mukherjee. Il a soulevé la question de l\\'égalité des opportunités. Le Dr. Shyamaprasad Mukherjee a dit : \"J\\'espère, Monsieur, que nous avancerons dans notre travail, malgré toutes les difficultés, et ainsi aider à créer cette grande Inde, qui sera la patrie non seulement de cette communauté, non seulement de cette classe de personnes, mais de chaque personne, homme, femme et enfant, vivant dans cette grande terre avec respect de la race, de la caste, de la croyance ou de la communauté. Chacun devrait avoir une égalité d\\'opportunités, afin qu\\'il puisse se développer selon ses meilleurs talents et servir cette grande patrie commune de l\\'Inde. Amis, j\\'espère que vous aussi vous avez apprécié l\\'audio original de ce débat. Nous, les Indiens, devrions être inspirés par ces pensées et travailler à la création d\\'une Inde dont nos rédacteurs de la Constitution seraient fiers. Amis, le 25 janvier, jour national des électeurs, ce jour est important car c\\'est le jour où la Commission électorale indienne a été créée. Nos rédacteurs de la Constitution ont donné une grande importance à notre Commission électorale et à la participation du peuple à la démocratie. Lorsque les élections se sont tenues pour la première fois en 1951-52, certains doutaient que la démocratie du pays survivrait. Mais notre démocratie a prouvé que tous les doutes étaient infondés. Après tout, l\\'Inde est la mère de la démocratie. Au cours des dernières décennies, la démocratie du pays a été forte et prospère. Je tiens également à remercier la Commission électorale, qui a modernisé et renforcé notre processus de vote de temps en temps. Je tiens à féliciter la Commission électorale pour son engagement en faveur d\\'élections indépendantes. Je demande aux électeurs d\\'utiliser autant que possible leur droit de vote, de participer au processus démocratique du pays et de renforcer ce processus. Chers compatriotes, le grand Kumbh de Prayag Raj a été inauguré. Cette fois, la rencontre inimaginable des gens inoubliables et l\\'union sans pareille de l\\'égalité et de la prospérité se transforment également en une combinaison divine au Kumbh cette fois. Ce festival de Kumbh célèbre le festival de l\\'unité dans la diversité. Les gens de toute l\\'Inde, de partout dans le monde, se réunissent sur le sol de l\\'union. Cette tradition dure depuis des milliers d\\'années. Il n\\'y a aucune discrimination nulle part. Il n\\'y a pas de caste. Dans cette situation, les gens viennent du sud de l\\'Inde, les gens viennent de l\\'est et de l\\'ouest de l\\'Inde. Au Kumbh, les pauvres, les riches, tout le monde ne font qu\\'un. Tout le monde se rassemble et mange ensemble. C\\'est pourquoi le Kumbh est le grand Kumbh de l\\'unité. Le Kumbh nous dit aussi comment nos traditions relient toute l\\'Inde en un seul fil. Du nord au sud, les manières d\\'accepter les croyances sont les mêmes. D\\'un côté, Prayagraj, Ujjain, Nashik et Haridwar organisent le Kumbh. De même, dans la partie sud, il y a Pushkaram sur les rives des fleuves Godavari, Krishna, Narmada et Kaveri. Les deux montagnes sont liées à nos fleuves sacrés, à leurs croyances. De même, de Kumbakonam à Tirukkadyur, de Kurvasal à Tirucherai, il y a de nombreux temples dont les traditions sont liées au Kumbh. Amis, cette fois-ci, vous avez peut-être remarqué que la participation des jeunes est très importante au Kumbh. Et il est également vrai que lorsque la jeune génération se connecte à sa culture et à sa fierté, ses racines deviennent plus fortes. Et alors, son avenir doré est assuré. Cette fois-ci, nous voyons aussi l\\'empreinte numérique du Kumbh à une si grande échelle. Cette popularité mondiale du Kumbh est une source de fierté pour chaque Indien. Amis, il y a quelques jours, la foire de Gangasagar a également eu lieu au Bengale occidental. À l\\'occasion de la révolution, des centaines de milliers de dévots du monde entier sont venus à cette foire. Les Kumbh, les Pushkaram et la foire de Gangasagar sont des montagnes qui renforcent notre unité sociale, notre harmonie. Ces montagnes relient les gens de l\\'Inde aux traditions de l\\'Inde. Et de la même manière que nos écritures ont donné de la force à Dharma, Artha, Kama, Moksha, Chandra dans le monde, de la même manière, nos montagnes et nos traditions renforcent aussi les côtés spirituel, social, culturel et financier. Chers compatriotes, ce mois-ci, nous avons célébré le premier anniversaire du Prana Pratishtha Parva de Ram Lala le 12 Poush Shukla. Cette année, le 12 Poush Shukla était le 11 janvier. Ce jour-là, des milliers de dévots de Ram ont visité Ayodhya et ont offert leurs bénédictions. Ce 12 Prana Pratishtha est également le 12 Puna Pratishtha de la conscience culturelle indienne. Par conséquent, ce jour de'"
            ],
            "application/vnd.google.colaboratory.intrinsic+json": {
              "type": "string"
            }
          },
          "metadata": {},
          "execution_count": 11
        }
      ]
    },
    {
      "cell_type": "code",
      "source": [],
      "metadata": {
        "id": "VVAT-yCsPlDo"
      },
      "execution_count": null,
      "outputs": []
    }
  ]
}